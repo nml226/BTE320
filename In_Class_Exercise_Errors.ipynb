{
  "nbformat": 4,
  "nbformat_minor": 0,
  "metadata": {
    "colab": {
      "provenance": [],
      "authorship_tag": "ABX9TyMJVHF5AF9lEGZw1Y34yfd7",
      "include_colab_link": true
    },
    "kernelspec": {
      "name": "python3",
      "display_name": "Python 3"
    },
    "language_info": {
      "name": "python"
    }
  },
  "cells": [
    {
      "cell_type": "markdown",
      "metadata": {
        "id": "view-in-github",
        "colab_type": "text"
      },
      "source": [
        "<a href=\"https://colab.research.google.com/github/nml226/BTE320/blob/main/In_Class_Exercise_Errors.ipynb\" target=\"_parent\"><img src=\"https://colab.research.google.com/assets/colab-badge.svg\" alt=\"Open In Colab\"/></a>"
      ]
    },
    {
      "cell_type": "code",
      "execution_count": 15,
      "metadata": {
        "colab": {
          "base_uri": "https://localhost:8080/"
        },
        "id": "dEMpqOwJ2fEb",
        "outputId": "dacbfee8-aabe-4aac-b451-973696a21d49"
      },
      "outputs": [
        {
          "output_type": "stream",
          "name": "stdout",
          "text": [
            "No values in this list\n"
          ]
        }
      ],
      "source": [
        "def avg(alist):\n",
        "  try:\n",
        "    return sum(alist) / len(alist)\n",
        "  except TypeError:\n",
        "    print(\"Not a numeric value\")\n",
        "    return float(\"nan\")\n",
        "  except ZeroDivisionError:\n",
        "      print(\"No values in this list\")\n",
        "\n",
        "\n",
        "avg([])"
      ]
    },
    {
      "cell_type": "code",
      "source": [
        "l = [1,3,5,7,9]\n",
        "\n",
        "try:\n",
        "  idx = int(input(\"Enter index: \"))\n",
        "  print(l[idx])\n",
        "except IndexError:\n",
        "    print(\"Index value out of bounds.\")\n",
        "except ValueError:\n",
        "      print(\"Index must be integer\")\n",
        "else:\n",
        "      print(\"All Good!\")\n",
        "finally:\n",
        "  print(\"This will be displayed always\")\n"
      ],
      "metadata": {
        "colab": {
          "base_uri": "https://localhost:8080/"
        },
        "id": "TTUEetdj8krR",
        "outputId": "737763c8-9d95-4bea-b9c0-635267af2517"
      },
      "execution_count": 28,
      "outputs": [
        {
          "output_type": "stream",
          "name": "stdout",
          "text": [
            "Enter index: one\n",
            "Index must be integer\n",
            "This will be displayed always\n"
          ]
        }
      ]
    }
  ]
}