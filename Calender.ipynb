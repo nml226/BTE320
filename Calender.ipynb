{
  "nbformat": 4,
  "nbformat_minor": 0,
  "metadata": {
    "colab": {
      "provenance": [],
      "authorship_tag": "ABX9TyNLpCWeQeP3lBv5tLgvi874",
      "include_colab_link": true
    },
    "kernelspec": {
      "name": "python3",
      "display_name": "Python 3"
    },
    "language_info": {
      "name": "python"
    }
  },
  "cells": [
    {
      "cell_type": "markdown",
      "metadata": {
        "id": "view-in-github",
        "colab_type": "text"
      },
      "source": [
        "<a href=\"https://colab.research.google.com/github/nml226/BTE320/blob/main/Calender.ipynb\" target=\"_parent\"><img src=\"https://colab.research.google.com/assets/colab-badge.svg\" alt=\"Open In Colab\"/></a>"
      ]
    },
    {
      "cell_type": "code",
      "execution_count": 11,
      "metadata": {
        "id": "cPN6LmXYwYvn",
        "colab": {
          "base_uri": "https://localhost:8080/"
        },
        "outputId": "33debed9-ed81-4349-e2ff-fde8519ca7de"
      },
      "outputs": [
        {
          "output_type": "stream",
          "name": "stdout",
          "text": [
            "Enter birthdate (mm/dd/yyyy):02/02/2002\n",
            "Your were born on:\n",
            "02 02 2002\n"
          ]
        }
      ],
      "source": [
        "date = (input('Enter birthdate (mm/dd/yyyy):'))\n",
        "month = date[:2]\n",
        "day = date[3:5]\n",
        "year = date[6:10]\n",
        "print(\"Your were born on:\")\n",
        "print(month, day, year)\n"
      ]
    }
  ]
}