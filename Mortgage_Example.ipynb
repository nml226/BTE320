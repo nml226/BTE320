{
  "nbformat": 4,
  "nbformat_minor": 0,
  "metadata": {
    "colab": {
      "provenance": [],
      "authorship_tag": "ABX9TyPabCk1x9JMp+dLJ1NaS/jO",
      "include_colab_link": true
    },
    "kernelspec": {
      "name": "python3",
      "display_name": "Python 3"
    },
    "language_info": {
      "name": "python"
    }
  },
  "cells": [
    {
      "cell_type": "markdown",
      "metadata": {
        "id": "view-in-github",
        "colab_type": "text"
      },
      "source": [
        "<a href=\"https://colab.research.google.com/github/nml226/BTE320/blob/main/Mortgage_Example.ipynb\" target=\"_parent\"><img src=\"https://colab.research.google.com/assets/colab-badge.svg\" alt=\"Open In Colab\"/></a>"
      ]
    },
    {
      "cell_type": "code",
      "execution_count": null,
      "metadata": {
        "id": "taRY79pSMkXW"
      },
      "outputs": [],
      "source": [
        "class Mortgage:\n",
        "    def __init__(self, amount, maturity, interest):\n",
        "        self.amount = amount\n",
        "        self.maturity = maturity\n",
        "        self.interest = interest\n",
        "\n",
        "    def get_interest(self):\n",
        "      return self.interest\n",
        "\n",
        "    def set_interest(self, newInterest):\n",
        "      if newInterest >= 0:\n",
        "        self.interest = newInterest\n",
        "      else:\n",
        "        print('Interest must be non-negative')\n",
        "\n",
        "    def payment(self):\n",
        "      B = self.amount\n",
        "      n = self.maturity * 12\n",
        "      r = self.interest / 100\n",
        "\n",
        "      return B * (r * (1 + r) ** n ) / ((1+r) ** n - 1)\n",
        "\n",
        "m = Mortgage(100000, 30, 6)"
      ]
    },
    {
      "cell_type": "code",
      "source": [
        "m.set_interest(4)\n",
        "m.get_interest()"
      ],
      "metadata": {
        "colab": {
          "base_uri": "https://localhost:8080/"
        },
        "id": "5kLfQYo2UqE3",
        "outputId": "dd39892b-8ca2-4036-b750-b69292c59b88"
      },
      "execution_count": null,
      "outputs": [
        {
          "output_type": "execute_result",
          "data": {
            "text/plain": [
              "4"
            ]
          },
          "metadata": {},
          "execution_count": 33
        }
      ]
    }
  ]
}