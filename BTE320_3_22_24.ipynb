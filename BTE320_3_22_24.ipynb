{
  "nbformat": 4,
  "nbformat_minor": 0,
  "metadata": {
    "colab": {
      "provenance": [],
      "authorship_tag": "ABX9TyOj/YWxuZCaXSHLxCdsBLFd",
      "include_colab_link": true
    },
    "kernelspec": {
      "name": "python3",
      "display_name": "Python 3"
    },
    "language_info": {
      "name": "python"
    }
  },
  "cells": [
    {
      "cell_type": "markdown",
      "metadata": {
        "id": "view-in-github",
        "colab_type": "text"
      },
      "source": [
        "<a href=\"https://colab.research.google.com/github/nml226/BTE320/blob/main/BTE320_3_22_24.ipynb\" target=\"_parent\"><img src=\"https://colab.research.google.com/assets/colab-badge.svg\" alt=\"Open In Colab\"/></a>"
      ]
    },
    {
      "cell_type": "code",
      "execution_count": null,
      "metadata": {
        "colab": {
          "base_uri": "https://localhost:8080/"
        },
        "id": "ZIqK7dp7c3Zq",
        "outputId": "4fe717cb-9212-4602-950b-23508aa008f1"
      },
      "outputs": [
        {
          "name": "stdout",
          "output_type": "stream",
          "text": [
            "Enter number of weights: 4\n",
            "Enter a value: 2\n",
            "Enter a value: 4\n",
            "Enter a value: 6\n",
            "Enter a value: 8\n"
          ]
        },
        {
          "output_type": "execute_result",
          "data": {
            "text/plain": [
              "7.0"
            ]
          },
          "metadata": {},
          "execution_count": 6
        }
      ],
      "source": [
        "def getValue(n):\n",
        "  values = []\n",
        "  if n < 3:\n",
        "    return \"too small\"\n",
        "  else:\n",
        "    for num in range(n):\n",
        "      value = float(input(\"Enter a value: \"))\n",
        "      values.append(value)\n",
        "    return values [2:]\n",
        "\n",
        "def calcaverage(aList):\n",
        "  if aList == \"too small\":\n",
        "    print(\"Not enough elements\")\n",
        "  else:\n",
        "      return sum(aList) / len(aList)\n",
        "\n",
        "n_values = int(input(\"Enter number of weights: \"))\n",
        "L = getValue(n_values)\n",
        "calcaverage(L)"
      ]
    }
  ]
}