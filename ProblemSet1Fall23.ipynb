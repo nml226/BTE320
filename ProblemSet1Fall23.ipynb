{
  "nbformat": 4,
  "nbformat_minor": 0,
  "metadata": {
    "colab": {
      "provenance": [],
      "include_colab_link": true
    },
    "kernelspec": {
      "name": "python3",
      "display_name": "Python 3"
    },
    "language_info": {
      "name": "python"
    }
  },
  "cells": [
    {
      "cell_type": "markdown",
      "metadata": {
        "id": "view-in-github",
        "colab_type": "text"
      },
      "source": [
        "<a href=\"https://colab.research.google.com/github/nml226/BTE320/blob/main/ProblemSet1Fall23.ipynb\" target=\"_parent\"><img src=\"https://colab.research.google.com/assets/colab-badge.svg\" alt=\"Open In Colab\"/></a>"
      ]
    },
    {
      "cell_type": "markdown",
      "source": [
        "# Problem Set 2"
      ],
      "metadata": {
        "id": "mqKVIuY-mxNU"
      }
    },
    {
      "cell_type": "markdown",
      "source": [
        "## Assignment 1: Quality Control (7 points)\n",
        "\n",
        "A quality control manager would like to find the average weight of a list of weights. Prior experience indicates that the first two measures are atypical, and the practice is to exclude these from the average calculation.\n",
        "\n",
        "Write a program that calculates the average of a list of numbers that given as inputs from the user, excluding the first two values.\n",
        "\n",
        "For your program, you must define and use the following functions:\n",
        "- `getValues(n)`: Prompt the user for `n` values, returns the list\n",
        "- `calcAverage(alist)`: Calculates the average from the list"
      ],
      "metadata": {
        "id": "-RSYW1jVm08n"
      }
    },
    {
      "cell_type": "code",
      "execution_count": null,
      "metadata": {
        "colab": {
          "base_uri": "https://localhost:8080/"
        },
        "id": "ZIqK7dp7c3Zq",
        "outputId": "4fe717cb-9212-4602-950b-23508aa008f1"
      },
      "outputs": [
        {
          "name": "stdout",
          "output_type": "stream",
          "text": [
            "Enter number of weights: 4\n",
            "Enter a value: 2\n",
            "Enter a value: 4\n",
            "Enter a value: 6\n",
            "Enter a value: 8\n"
          ]
        },
        {
          "output_type": "execute_result",
          "data": {
            "text/plain": [
              "7.0"
            ]
          },
          "metadata": {},
          "execution_count": 6
        }
      ],
      "source": [
        "def getValue(n):\n",
        "  values = []\n",
        "  if n < 3:\n",
        "    return \"too small\"\n",
        "  else:\n",
        "    for num in range(n):\n",
        "      value = float(input(\"Enter a value: \"))\n",
        "      values.append(value)\n",
        "    return values [2:]\n",
        "\n",
        "def calcaverage(aList):\n",
        "  if aList == \"too small\":\n",
        "    print(\"Not enough elements\")\n",
        "  else:\n",
        "      return sum(aList) / len(aList)\n",
        "\n",
        "n_values = int(input(\"Enter number of weights: \"))\n",
        "L = getValue(n_values)\n",
        "calcaverage(L)"
      ]
    },
    {
      "cell_type": "markdown",
      "source": [
        "## Assignment 2: Country Statistics Lookup-Multiple Measures (6 points)\n",
        "\n",
        "Assume a program begins with the statement:\n",
        "\n",
        "```python\n",
        "allData = { # dictionary of values for countries\n",
        "    'US': {'pop':325.7, 'gdp': 19.39, 'ccy': 'USD', 'fx':  1.0},\n",
        "    'CA': {'pop': 36.5, 'gdp':  1.65, 'ccy': 'CAD', 'fx':  1.35},\n",
        "    'MX': {'pop':129.2, 'gdp':  1.15, 'ccy': 'MXN', 'fx': 19.68}\n",
        "    }\n",
        "```\n",
        "\n",
        "Write subsequent statements that (in a loop) prompt the user for a country code (`US`, `CA`, or `MX`), then prompt for a measure name (`pop`, `gdp`, `ccy`, or `fx`), then look up in the above dictionary for the corresponding value, and display it.\n",
        "\n",
        "Example run:\n",
        "```\n",
        "Please enter a country code: CA\n",
        "Please enter a statistic: pop\n",
        "CA pop = 36.5\n",
        "```\n",
        "\n",
        "Your program should handle the cases where a user-entered country code or measure name is not found."
      ],
      "metadata": {
        "id": "QFO0Kzx8ncnv"
      }
    },
    {
      "cell_type": "code",
      "source": [
        "allData = { # dictionary of values for countries\n",
        "    'US': {'pop':325.7, 'gdp': 19.39, 'ccy': 'USD', 'fx':  1.0},\n",
        "    'CA': {'pop': 36.5, 'gdp':  1.65, 'ccy': 'CAD', 'fx':  1.35},\n",
        "    'MX': {'pop':129.2, 'gdp':  1.15, 'ccy': 'MXN', 'fx': 19.68}\n",
        "    }\n",
        "\n",
        "while True:\n",
        "  country_code = input(\"Enter country code (US, CA, or MX): \")\n",
        "  if country_code in allData:\n",
        "          measure_name = input(\"Enter a measure: \")\n",
        "  if measure_name in allData[country_code]:\n",
        "              value = allData[country_code][measure_name]\n",
        "              print(f\"The value for {measure_name} in {country_code} is: {value}\")\n",
        "\n",
        "  else:\n",
        "          print(\"Invalid country code. Please enter 'US', 'CA', or 'MX'.\")\n",
        "\n",
        "  break\n",
        "\n",
        "\n"
      ],
      "metadata": {
        "id": "NZFjRINKowEW",
        "colab": {
          "base_uri": "https://localhost:8080/",
          "height": 0
        },
        "outputId": "b2e12bfc-2c59-4174-b249-2e4fcdaf5dbb"
      },
      "execution_count": 32,
      "outputs": [
        {
          "output_type": "stream",
          "name": "stdout",
          "text": [
            "Enter country code (US, CA, or MX): CA\n",
            "Enter a measure: gdp\n",
            "The value for gdp in CA is: 1.65\n"
          ]
        }
      ]
    },
    {
      "cell_type": "code",
      "source": [
        "allData = { # dictionary of values for countries\n",
        "    'US': {'pop':325.7, 'gdp': 19.39, 'ccy': 'USD', 'fx':  1.0},\n",
        "    'CA': {'pop': 36.5, 'gdp':  1.65, 'ccy': 'CAD', 'fx':  1.35},\n",
        "    'MX': {'pop':129.2, 'gdp':  1.15, 'ccy': 'MXN', 'fx': 19.68}\n",
        "    }\n",
        "\n",
        "while True:\n",
        "  country_code = input('Enter country code:')\n",
        "  measure = input('Enter measure: ')\n",
        "\n",
        "  if measure == 'pop':\n",
        "    print(f'Population: {allData[country_code][measure]} million people.')\n",
        "  elif measure == 'gdp':\n",
        "    print(f'GDP: $ {allData[country_code][measure]} trillion.')\n",
        "  elif measure == 'ccy':\n",
        "    print(f'Currency: {allData[country_code][measure]} .')\n",
        "  elif measure == 'FX':\n",
        "    print(f'FX: {allData[country_code][measure]}. ')"
      ],
      "metadata": {
        "colab": {
          "base_uri": "https://localhost:8080/",
          "height": 0
        },
        "id": "f8IVbE6LGfFg",
        "outputId": "06eb6538-1c23-4efc-d974-3957b2d598e8"
      },
      "execution_count": null,
      "outputs": [
        {
          "name": "stdout",
          "output_type": "stream",
          "text": [
            "Enter country code:US\n",
            "Enter measure: fx\n"
          ]
        }
      ]
    },
    {
      "cell_type": "markdown",
      "source": [
        "## Assignment 3: Parking Garage (6 points)\n",
        "\n",
        "Write a program to compute the fee for parking in a garage for a number of hours.\n",
        "\n",
        "The program should:\n",
        "- Prompt the user for how many hours parked\n",
        "- Calculate the fee based on the following rules:\n",
        "  - $2.50/hour\n",
        "\n",
        "  - minimum fee is $6.00\n",
        "\n",
        "  - maximum fee is $20.00\n",
        "- Print the result\n",
        "\n",
        "For your program, define and use the following two functions:\n",
        "```python\n",
        "# use input() to prompt for the # of hours parked, return this value\n",
        "def getParkingHours()\n",
        "\n",
        "# takes as input hours (a number), returns the parking fee\n",
        "def calcParkingFee()\n",
        "```"
      ],
      "metadata": {
        "id": "GjaUFrnfpKFf"
      }
    },
    {
      "cell_type": "code",
      "source": [
        "def getParkingHours():\n",
        "    hours_input = int(input(\"Enter the number of hours parked: \"))\n",
        "    if hours_input >= 0:\n",
        "      return hours_input\n",
        "\n",
        "def calcParkingFee(h):\n",
        "    rate = 2.50\n",
        "    min_fee = 6.00\n",
        "    max_fee = 20.00\n",
        "\n",
        "    fee = hours * rate\n",
        "    if fee < min_fee:\n",
        "        fee = min_fee\n",
        "    elif fee > max_fee:\n",
        "        fee = max_fee\n",
        "    return fee\n",
        "\n",
        "hours = getParkingHours()\n",
        "fee = calcParkingFee(hours)\n",
        "print(f'Total fee: ${fee}')"
      ],
      "metadata": {
        "id": "5ha4O3V5pwNN",
        "colab": {
          "base_uri": "https://localhost:8080/"
        },
        "outputId": "7942159d-e058-409a-8252-e57e3ce091eb"
      },
      "execution_count": null,
      "outputs": [
        {
          "output_type": "stream",
          "name": "stdout",
          "text": [
            "Enter the number of hours parked: 5\n",
            "Total fee: $12.5\n"
          ]
        }
      ]
    },
    {
      "cell_type": "markdown",
      "source": [
        "## Assignment 4: Tuition (6 points)\n",
        "\n",
        "A college charges tuition according to the following:\n",
        "- 12 or more credits: $20,000/semester\n",
        "\n",
        "- 1-11 credits: $1,200 + $1,700 per credit\n",
        "\n",
        "Write a program that prompts the user for a number of credits and determines and displays the tuition for the semester. As part of your program, define and use the following function:\n",
        "```python\n",
        "def calcTuition(credits)\n",
        "```\n",
        "The function returns the tuition for a given number of credits"
      ],
      "metadata": {
        "id": "gipBObe5qm-2"
      }
    },
    {
      "cell_type": "code",
      "source": [
        "def calcTuition(credits):\n",
        "    if credits >= 12:\n",
        "        print(f'Tuition = {20000}$')\n",
        "    elif credits >= 1:\n",
        "        print(f'Tuition = {1200 + 1700 * credits}$')\n",
        "    else:\n",
        "        tuition = 0\n",
        "        print('Invalid number of credits')\n",
        "\n",
        "\n",
        "n_credits = int(input(\"Enter the number of credits: \"))\n",
        "tuition = calcTuition(n_credits)\n",
        "\n",
        "\n"
      ],
      "metadata": {
        "colab": {
          "base_uri": "https://localhost:8080/",
          "height": 0
        },
        "id": "5DhYu6FpKGQy",
        "outputId": "f649a0c8-b1a5-41ad-ea02-95a5a0644d35"
      },
      "execution_count": 29,
      "outputs": [
        {
          "output_type": "stream",
          "name": "stdout",
          "text": [
            "Enter the number of credits: 5\n",
            "Tuition = 9700$\n"
          ]
        }
      ]
    }
  ]
}