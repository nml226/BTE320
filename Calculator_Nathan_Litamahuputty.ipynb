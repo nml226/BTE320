{
  "nbformat": 4,
  "nbformat_minor": 0,
  "metadata": {
    "colab": {
      "provenance": [],
      "authorship_tag": "ABX9TyNkm2qCWK2HwJ54rN/r+Xy5",
      "include_colab_link": true
    },
    "kernelspec": {
      "name": "python3",
      "display_name": "Python 3"
    },
    "language_info": {
      "name": "python"
    }
  },
  "cells": [
    {
      "cell_type": "markdown",
      "metadata": {
        "id": "view-in-github",
        "colab_type": "text"
      },
      "source": [
        "<a href=\"https://colab.research.google.com/github/nml226/BTE320/blob/main/Calculator_Nathan_Litamahuputty.ipynb\" target=\"_parent\"><img src=\"https://colab.research.google.com/assets/colab-badge.svg\" alt=\"Open In Colab\"/></a>"
      ]
    },
    {
      "cell_type": "code",
      "execution_count": null,
      "metadata": {
        "id": "glVtv_11o5nb",
        "colab": {
          "base_uri": "https://localhost:8080/"
        },
        "outputId": "d9ff9ca2-3751-4078-810d-f3a740141ebb"
      },
      "outputs": [
        {
          "name": "stdout",
          "output_type": "stream",
          "text": [
            "Enter first number: 4\n",
            "Enter second number: 4\n",
            "Enter  operator:  +\n",
            "RESULT: 8.0\n",
            "Enter first number: 5\n",
            "Enter second number: 5\n",
            "Enter  operator:  *\n",
            "RESULT: 25.0\n",
            "Enter first number: 5\n",
            "Enter second number: 5\n",
            "Enter  operator:  /\n",
            "RESULT: 1.0\n",
            "Enter first number: 2\n",
            "Enter second number: 6\n",
            "Enter  operator:  break\n"
          ]
        }
      ],
      "source": [
        "while True:\n",
        "  num1 = float(input('Enter first number: '))\n",
        "  num2 = float(input(\"Enter second number: \"))\n",
        "  operator = input('Enter  operator:  ')\n",
        "\n",
        "  if operator =='break':\n",
        "    break\n",
        "\n",
        "\n",
        "  if operator == \"+\":\n",
        "    answer = num1 + num2\n",
        "  elif operator == \"-\":\n",
        "   answer = num1 - num2\n",
        "  elif operator == \"*\":\n",
        "    answer = num1 * num2\n",
        "  elif operator == \"**\":\n",
        "    answer = num1 ** num2\n",
        "  elif operator == \"/\":\n",
        "    answer = num1 / num2\n",
        "  elif operator == \"//\":\n",
        "    answer = num1 // num2\n",
        "  elif operator == \"%\":\n",
        "    answer = num1 % num2\n",
        "\n",
        "  else:\n",
        "    print('Invalid operator:')\n",
        "    continue\n",
        "\n",
        "  print('RESULT:', answer)\n"
      ]
    },
    {
      "cell_type": "code",
      "source": [],
      "metadata": {
        "id": "AjxbOcD8ukoF"
      },
      "execution_count": null,
      "outputs": []
    },
    {
      "cell_type": "code",
      "source": [],
      "metadata": {
        "id": "ytyPC0GRrOLp"
      },
      "execution_count": null,
      "outputs": []
    }
  ]
}