{
  "nbformat": 4,
  "nbformat_minor": 0,
  "metadata": {
    "colab": {
      "provenance": [],
      "authorship_tag": "ABX9TyPZBeqiwymOK9mSRPXuW+aD",
      "include_colab_link": true
    },
    "kernelspec": {
      "name": "python3",
      "display_name": "Python 3"
    },
    "language_info": {
      "name": "python"
    }
  },
  "cells": [
    {
      "cell_type": "markdown",
      "metadata": {
        "id": "view-in-github",
        "colab_type": "text"
      },
      "source": [
        "<a href=\"https://colab.research.google.com/github/nml226/BTE320/blob/main/4_3_2024_In_Class_Practice.ipynb\" target=\"_parent\"><img src=\"https://colab.research.google.com/assets/colab-badge.svg\" alt=\"Open In Colab\"/></a>"
      ]
    },
    {
      "cell_type": "code",
      "execution_count": null,
      "metadata": {
        "colab": {
          "base_uri": "https://localhost:8080/"
        },
        "id": "AW2ES9QV3BSl",
        "outputId": "30f56dbe-d360-47ee-e066-d0d72b397e6b"
      },
      "outputs": [
        {
          "output_type": "stream",
          "name": "stdout",
          "text": [
            "Factorial of 4 is 24\n"
          ]
        }
      ],
      "source": [
        "def factorial(n):\n",
        "  if n == 0:\n",
        "    return 1\n",
        "  else:\n",
        "    return n * factorial(n-1)\n",
        "\n",
        "\n",
        "number = 4\n",
        "\n",
        "print(f\"Factorial of {number} is {factorial(number)}\")\n"
      ]
    },
    {
      "cell_type": "code",
      "source": [
        "def fact(n):\n",
        "  p = 1\n",
        "  while n >= 1:\n",
        "    p = p * n\n",
        "    n = n - 1\n",
        "  return p\n",
        "\n",
        "fact(4)"
      ],
      "metadata": {
        "colab": {
          "base_uri": "https://localhost:8080/"
        },
        "id": "n_OVvR9C5CcM",
        "outputId": "c949ee2b-ead7-4eff-a7b9-e0175974e200"
      },
      "execution_count": null,
      "outputs": [
        {
          "output_type": "execute_result",
          "data": {
            "text/plain": [
              "24"
            ]
          },
          "metadata": {},
          "execution_count": 12
        }
      ]
    },
    {
      "cell_type": "code",
      "source": [
        "def reverse_str(s):\n",
        "  if len(s) == 1:\n",
        "    return s\n",
        "  else:\n",
        "    return s[-1] + reverse_str(s[:-1])\n",
        "\n",
        "normal_str = \"Hello\"\n",
        "reversed_str = reverse_str(normal_str)\n",
        "print(\"Normal:\", normal_str)\n",
        "print(\"Reversed:\", reversed_str)\n"
      ],
      "metadata": {
        "colab": {
          "base_uri": "https://localhost:8080/"
        },
        "id": "TTMW4VVv5gXU",
        "outputId": "8113947c-c232-4449-89ae-ecbee410691d"
      },
      "execution_count": null,
      "outputs": [
        {
          "output_type": "stream",
          "name": "stdout",
          "text": [
            "Normal: Hello\n",
            "Reversed: olleH\n"
          ]
        }
      ]
    },
    {
      "cell_type": "code",
      "source": [
        "def quickSort(alist):\n",
        "  if len(alist) < 2:\n",
        "    return alist\n",
        "  else:\n",
        "    less, equals, larger = [], [], []\n",
        "\n",
        "    pivotIndex = len(alist) // 2\n",
        "\n",
        "    for item in alist:\n",
        "      if item < alist[pivotIndex]:\n",
        "        less.append(item)\n",
        "      elif item == alist[pivotIndex]:\n",
        "        equals.append(item)\n",
        "      else:\n",
        "        larger.append(item)\n",
        "\n",
        "      return quickSort(less) + equals + quickSort(larger)\n",
        "\n",
        "    quickSort([8,2,5,3,6,1])\n"
      ],
      "metadata": {
        "id": "wRM5jCVHJTD1"
      },
      "execution_count": null,
      "outputs": []
    }
  ]
}