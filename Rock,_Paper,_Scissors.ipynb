{
  "nbformat": 4,
  "nbformat_minor": 0,
  "metadata": {
    "colab": {
      "provenance": [],
      "authorship_tag": "ABX9TyMSUZA95JRZ2+J5W7XxF6xm",
      "include_colab_link": true
    },
    "kernelspec": {
      "name": "python3",
      "display_name": "Python 3"
    },
    "language_info": {
      "name": "python"
    }
  },
  "cells": [
    {
      "cell_type": "markdown",
      "metadata": {
        "id": "view-in-github",
        "colab_type": "text"
      },
      "source": [
        "<a href=\"https://colab.research.google.com/github/nml226/BTE320/blob/main/Rock%2C_Paper%2C_Scissors.ipynb\" target=\"_parent\"><img src=\"https://colab.research.google.com/assets/colab-badge.svg\" alt=\"Open In Colab\"/></a>"
      ]
    },
    {
      "cell_type": "code",
      "execution_count": 5,
      "metadata": {
        "colab": {
          "base_uri": "https://localhost:8080/"
        },
        "id": "mN3-1w5ZyMs2",
        "outputId": "cf63c60e-ef52-4222-d552-02c5e048a78a"
      },
      "outputs": [
        {
          "output_type": "stream",
          "name": "stdout",
          "text": [
            "Let's play Rock, Paper, Scissors!\n",
            "Enter your choice (rock, paper, or scissors): paper\n",
            "You chose: paper\n",
            "Computer chose: rock\n",
            "You win!\n"
          ]
        }
      ],
      "source": [
        "print(\"Let's play Rock, Paper, Scissors!\")\n",
        "\n",
        "user_choice = input(\"Enter your choice (rock, paper, or scissors): \").lower()\n",
        "\n",
        "computer_choice = 'rock'\n",
        "\n",
        "print(f\"You chose: {user_choice}\")\n",
        "print(f\"Computer chose: {computer_choice}\")\n",
        "\n",
        "if user_choice == computer_choice:\n",
        "    print(\"It's a tie!\")\n",
        "elif (user_choice == 'rock' and computer_choice == 'scissors') or \\\n",
        "     (user_choice == 'scissors' and computer_choice == 'paper') or \\\n",
        "     (user_choice == 'paper' and computer_choice == 'rock'):\n",
        "    print(\"You win!\")\n",
        "else:\n",
        "    print(\"Computer wins!\")\n"
      ]
    }
  ]
}