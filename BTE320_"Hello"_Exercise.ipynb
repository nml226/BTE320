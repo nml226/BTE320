{
  "nbformat": 4,
  "nbformat_minor": 0,
  "metadata": {
    "colab": {
      "provenance": [],
      "authorship_tag": "ABX9TyONBK7oFUvLVwj+n3z+pPgd",
      "include_colab_link": true
    },
    "kernelspec": {
      "name": "python3",
      "display_name": "Python 3"
    },
    "language_info": {
      "name": "python"
    }
  },
  "cells": [
    {
      "cell_type": "markdown",
      "metadata": {
        "id": "view-in-github",
        "colab_type": "text"
      },
      "source": [
        "<a href=\"https://colab.research.google.com/github/nml226/BTE320/blob/main/BTE320_%22Hello%22_Exercise.ipynb\" target=\"_parent\"><img src=\"https://colab.research.google.com/assets/colab-badge.svg\" alt=\"Open In Colab\"/></a>"
      ]
    },
    {
      "cell_type": "code",
      "execution_count": 1,
      "metadata": {
        "colab": {
          "base_uri": "https://localhost:8080/"
        },
        "id": "5gdEVWvzOZ_8",
        "outputId": "ef0ab72d-4aff-4831-c8fe-b3b26f3f7059"
      },
      "outputs": [
        {
          "output_type": "stream",
          "name": "stdout",
          "text": [
            "Normal: Hello\n",
            "Reversed: olleH\n"
          ]
        }
      ],
      "source": [
        "def reverse_str(s):\n",
        "  if len(s) == 1:\n",
        "    return s\n",
        "  else:\n",
        "    return s[-1] + reverse_str(s[:-1])\n",
        "\n",
        "normal_str = \"Hello\"\n",
        "reversed_str = reverse_str(normal_str)\n",
        "print(\"Normal:\", normal_str)\n",
        "print(\"Reversed:\", reversed_str)"
      ]
    }
  ]
}