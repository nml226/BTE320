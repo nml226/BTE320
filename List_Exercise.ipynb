{
  "nbformat": 4,
  "nbformat_minor": 0,
  "metadata": {
    "colab": {
      "provenance": [],
      "authorship_tag": "ABX9TyOjNbBBU2Am5RjeHHNId3pF",
      "include_colab_link": true
    },
    "kernelspec": {
      "name": "python3",
      "display_name": "Python 3"
    },
    "language_info": {
      "name": "python"
    }
  },
  "cells": [
    {
      "cell_type": "markdown",
      "metadata": {
        "id": "view-in-github",
        "colab_type": "text"
      },
      "source": [
        "<a href=\"https://colab.research.google.com/github/nml226/BTE320/blob/main/List_Exercise.ipynb\" target=\"_parent\"><img src=\"https://colab.research.google.com/assets/colab-badge.svg\" alt=\"Open In Colab\"/></a>"
      ]
    },
    {
      "cell_type": "code",
      "execution_count": 24,
      "metadata": {
        "colab": {
          "base_uri": "https://localhost:8080/"
        },
        "id": "3Zk14nQv0NdF",
        "outputId": "96e8da04-d5ba-4570-fdf2-1ef85dd1b89f"
      },
      "outputs": [
        {
          "output_type": "stream",
          "name": "stdout",
          "text": [
            "Enter value: 1\n",
            "Enter value: 2\n",
            "Enter value: 7\n",
            "Enter value: 8\n",
            "Enter value: 0\n",
            "[1, 2, 7, 8]\n"
          ]
        }
      ],
      "source": [
        "L = []\n",
        "\n",
        "number = int(input('Enter value: '))\n",
        "\n",
        "while number != 0:\n",
        "  L.append(number)\n",
        "  number = (int(input('Enter value: ')))\n",
        "\n",
        "print(L)\n"
      ]
    }
  ]
}