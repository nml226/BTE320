{
  "nbformat": 4,
  "nbformat_minor": 0,
  "metadata": {
    "colab": {
      "provenance": [],
      "authorship_tag": "ABX9TyNTrIYENAc/ydDiHRwv+3Bx",
      "include_colab_link": true
    },
    "kernelspec": {
      "name": "python3",
      "display_name": "Python 3"
    },
    "language_info": {
      "name": "python"
    }
  },
  "cells": [
    {
      "cell_type": "markdown",
      "metadata": {
        "id": "view-in-github",
        "colab_type": "text"
      },
      "source": [
        "<a href=\"https://colab.research.google.com/github/nml226/BTE320/blob/main/Parking_Hours_Assignment.ipynb\" target=\"_parent\"><img src=\"https://colab.research.google.com/assets/colab-badge.svg\" alt=\"Open In Colab\"/></a>"
      ]
    },
    {
      "cell_type": "code",
      "source": [
        "def getParkingHours():\n",
        "    hours_input = int(input(\"Enter the number of hours parked: \"))\n",
        "    if hours_input >= 0:\n",
        "      return hours_input\n",
        "\n",
        "def calcParkingFee(h):\n",
        "    rate = 2.50\n",
        "    min_fee = 6.00\n",
        "    max_fee = 20.00\n",
        "\n",
        "    fee = hours * rate\n",
        "    if fee < min_fee:\n",
        "        fee = min_fee\n",
        "    elif fee > max_fee:\n",
        "        fee = max_fee\n",
        "    return fee\n",
        "\n",
        "hours = getParkingHours()\n",
        "fee = calcParkingFee(hours)\n",
        "print(f'Total fee: ${fee}')"
      ],
      "metadata": {
        "id": "5ha4O3V5pwNN",
        "colab": {
          "base_uri": "https://localhost:8080/"
        },
        "outputId": "7942159d-e058-409a-8252-e57e3ce091eb"
      },
      "execution_count": null,
      "outputs": [
        {
          "output_type": "stream",
          "name": "stdout",
          "text": [
            "Enter the number of hours parked: 5\n",
            "Total fee: $12.5\n"
          ]
        }
      ]
    }
  ]
}